{
 "cells": [
  {
   "cell_type": "code",
   "execution_count": 1,
   "id": "db9429eb",
   "metadata": {},
   "outputs": [],
   "source": [
    "import psycopg2\n",
    "from psycopg2 import Error\n",
    "import glob, os\n",
    "import random\n",
    "from time import sleep\n",
    "from bs4 import BeautifulSoup\n",
    "import requests"
   ]
  },
  {
   "cell_type": "code",
   "execution_count": 44,
   "id": "554f8529",
   "metadata": {},
   "outputs": [],
   "source": [
    "# return the scraped reviews for each movie\n",
    "def get_reviews(movie_url):\n",
    "\n",
    "    page = requests.get(movie_url+\"/reviews?ref_=tt_urv\")\n",
    "    soup1 = BeautifulSoup(page.content, 'html.parser')\n",
    "    review = soup1.find_all('div', class_=\"lister-item-content\")\n",
    "    review_alt = []\n",
    "    if soup1.find('div', class_='load-more-data') and 'data-key' in soup1.find('div', class_='load-more-data'):\n",
    "        page = requests.get(movie_url+\"/reviews/_ajax?ref_=undefined&paginationKey=\"+ data_key)\n",
    "        soup2 = BeautifulSoup(page.content, 'html.parser')\n",
    "        review_alt = soup.find_all('div', class_=\"lister-item-content\")\n",
    "\n",
    "    return review, review_alt"
   ]
  },
  {
   "cell_type": "code",
   "execution_count": 5,
   "id": "aa699c36",
   "metadata": {},
   "outputs": [
    {
     "name": "stdout",
     "output_type": "stream",
     "text": [
      "Connection Created\n"
     ]
    }
   ],
   "source": [
    "\n",
    "\n",
    "def connect(user=\"postgres\", password=\"adminYasser\", host=\"database-2.cxv32gki8sxt.us-east-1.rds.amazonaws.com\", port=\"5432\", database=\"imdb\"):\n",
    "    connection = psycopg2.connect(user=user,\n",
    "                                  password=password,\n",
    "                                  host=host,\n",
    "                                  port=port,\n",
    "                                  database=database)\n",
    "    print(\"Connection Created\")\n",
    "    return connection\n",
    "\n",
    "connection = connect()\n",
    "cursor = connection.cursor()"
   ]
  },
  {
   "cell_type": "code",
   "execution_count": null,
   "id": "bd8b0f5a",
   "metadata": {
    "scrolled": false
   },
   "outputs": [],
   "source": [
    "# Query to get movie's urls with not linked review_id\n",
    "select_query = f\"SELECT distinct movies.id, movies.url FROM public.reviews JOIN movies on movies.id = reviews.movie_id where reviews.review_id is NULL order by movies.id\"\n",
    "cursor.execute(select_query)\n",
    "rows = cursor.fetchall()\n",
    "\n",
    "i=0\n",
    "for row in rows:\n",
    "    movie_id = row[0]\n",
    "    url = row[1]\n",
    "    # get all reviews for the movie\n",
    "    divs, divs_more = get_reviews(url)\n",
    "\n",
    "    # retrieve from the database all reviews for this movie\n",
    "    select_query = f\"SELECT id, review, review_id FROM reviews WHERE movie_id = '{movie_id}'\"\n",
    "    cursor.execute(select_query)\n",
    "    \n",
    "    reviews = cursor.fetchall()\n",
    "    \n",
    "    for review in reviews:\n",
    "        i+=1\n",
    "        # if the record already not empty\n",
    "        if review[2]:\n",
    "            continue\n",
    "        \n",
    "        # search for the review in the movie's reviews to get the review id and the link for this review\n",
    "        for div in divs:\n",
    "            if div.text.find(review[1][:20]) != -1:\n",
    "                link = div.find('a', class_='title')['href']\n",
    "                review_id = link.split('/')[-2]\n",
    "                review_url = \"https://www.imdb.com\" + link\n",
    "                update_query = f\"UPDATE reviews SET review_id = %s, url = %s WHERE id = %s;\"\n",
    "                cursor.execute(update_query, (review_id, review_url, review[0]))\n",
    "                print(0)\n",
    "                continue\n",
    "                \n",
    "        # search in load more data     \n",
    "        for div in divs_more:\n",
    "            if div.text.find(review[1][:20]) != -1:\n",
    "                link = div.find('a', class_='title')['href']\n",
    "                review_id = link.split('/')[-2]\n",
    "                review_url = \"https://www.imdb.com\" + link\n",
    "                update_query = f\"UPDATE reviews SET review_id = %s, url = %s WHERE id = %s;\"\n",
    "                cursor.execute(update_query, (review_id, review_url, review[0]))\n",
    "                print(1)\n",
    "                continue\n",
    "                \n",
    "    if i%50 == 0:\n",
    "        print(movie_id)\n",
    "  \n",
    "    connection.commit()"
   ]
  },
  {
   "cell_type": "code",
   "execution_count": 6,
   "id": "d8206ce4",
   "metadata": {},
   "outputs": [],
   "source": [
    "connection.close()"
   ]
  }
 ],
 "metadata": {
  "kernelspec": {
   "display_name": "Python 3 (ipykernel)",
   "language": "python",
   "name": "python3"
  },
  "language_info": {
   "codemirror_mode": {
    "name": "ipython",
    "version": 3
   },
   "file_extension": ".py",
   "mimetype": "text/x-python",
   "name": "python",
   "nbconvert_exporter": "python",
   "pygments_lexer": "ipython3",
   "version": "3.8.10"
  }
 },
 "nbformat": 4,
 "nbformat_minor": 5
}
